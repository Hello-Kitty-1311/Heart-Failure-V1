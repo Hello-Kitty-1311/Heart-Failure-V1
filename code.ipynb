{
  "nbformat": 4,
  "nbformat_minor": 0,
  "metadata": {
    "colab": {
      "provenance": []
    },
    "kernelspec": {
      "name": "python3",
      "display_name": "Python 3"
    },
    "language_info": {
      "name": "python"
    }
  },
  "cells": [
    {
      "cell_type": "markdown",
      "source": [
        "# Heart Failure Clinical Records Clustering Analysis\n",
        "\n",
        "## This notebook provides a comprehensive clustering analysis of heart failure clinical records with visualizations, multiple evaluation metrics, and detailed insights."
      ],
      "metadata": {
        "id": "xhLla4HXcjC2"
      }
    },
    {
      "cell_type": "markdown",
      "source": [
        "# Import Libraries and Setup"
      ],
      "metadata": {
        "id": "z9OlfFwDc1QQ"
      }
    },
    {
      "cell_type": "code",
      "execution_count": null,
      "metadata": {
        "id": "FiYQvJANca3f"
      },
      "outputs": [],
      "source": [
        "import pandas as pd\n",
        "import numpy as np\n",
        "import matplotlib.pyplot as plt\n",
        "import seaborn as sns\n",
        "from sklearn.preprocessing import StandardScaler, LabelEncoder\n",
        "from sklearn.cluster import KMeans, AgglomerativeClustering, DBSCAN\n",
        "from sklearn.metrics import silhouette_score, calinski_harabasz_score, davies_bouldin_score\n",
        "from sklearn.decomposition import PCA\n",
        "from sklearn.manifold import TSNE\n",
        "from scipy.cluster.hierarchy import dendrogram, linkage\n",
        "from scipy.spatial.distance import pdist\n",
        "import warnings\n",
        "warnings.filterwarnings('ignore')\n",
        "plt.style.use('seaborn-v0_8')\n",
        "sns.set_palette(\"husl\")\n",
        "plt.rcParams['figure.figsize'] = (12, 8)\n",
        "plt.rcParams['font.size'] = 10"
      ]
    },
    {
      "cell_type": "markdown",
      "source": [
        "# Load and Explore the Dataset"
      ],
      "metadata": {
        "id": "ddTuLarlc7aw"
      }
    },
    {
      "cell_type": "code",
      "source": [
        "# Load the heart failure dataset from UCI ML Repository\n",
        "url = \"https://archive.ics.uci.edu/ml/machine-learning-databases/00519/heart_failure_clinical_records_dataset.csv\"\n",
        "\n",
        "try:\n",
        "    df = pd.read_csv(url)\n",
        "    print(\"Dataset loaded successfully\")\n",
        "except:\n",
        "    print(\"Loading from URL failed, using local file\")\n",
        "    df = pd.read_csv('heart_failure_clinical_records_dataset.csv')\n",
        "\n",
        "print(f\"\\n Dataset Shape: {df.shape}\")\n",
        "print(f\"Features: {list(df.columns)}\")\n",
        "print(f\"\\n Dataset Info:\")\n",
        "print(df.info())"
      ],
      "metadata": {
        "id": "z_xR5WF6c7ja"
      },
      "execution_count": null,
      "outputs": []
    },
    {
      "cell_type": "markdown",
      "source": [
        "# Data Exploration"
      ],
      "metadata": {
        "id": "Dv7slU8EdmY2"
      }
    },
    {
      "cell_type": "code",
      "source": [
        "print(\"Dataset Statistics:\")\n",
        "print(df.describe())\n",
        "print(f\"\\n Missing Values:\")\n",
        "print(df.isnull().sum())\n",
        "print(f\"\\n First 5 rows:\")\n",
        "df.head()"
      ],
      "metadata": {
        "id": "1S-juye1dnnG"
      },
      "execution_count": null,
      "outputs": []
    }
  ]
}